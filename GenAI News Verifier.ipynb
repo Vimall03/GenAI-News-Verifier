{
 "cells": [
  {
   "cell_type": "markdown",
   "id": "1b4d7258-1b04-42c7-87c3-3e08fdd7134a",
   "metadata": {},
   "source": [
    "# FACT CHECKER USING LLM"
   ]
  },
  {
   "cell_type": "markdown",
   "id": "5623379a-9333-4dbe-badc-ed0010596695",
   "metadata": {},
   "source": [
    "## Initial Setup"
   ]
  },
  {
   "cell_type": "code",
   "execution_count": 89,
   "id": "a14306e4-533a-444a-bcde-63706af16671",
   "metadata": {},
   "outputs": [],
   "source": [
    "# Enter your api keys\n",
    "GEMINI_API_KEY = \"\"\n",
    "NEWS_API_KEY = \"\""
   ]
  },
  {
   "cell_type": "code",
   "execution_count": 82,
   "id": "d905effe-ac0e-4e33-971c-6ae5bc68d0e2",
   "metadata": {},
   "outputs": [
    {
     "name": "stderr",
     "output_type": "stream",
     "text": [
      "[nltk_data] Downloading package stopwords to\n",
      "[nltk_data]     C:\\Users\\Vimal\\AppData\\Roaming\\nltk_data...\n",
      "[nltk_data]   Package stopwords is already up-to-date!\n",
      "[nltk_data] Downloading package punkt to\n",
      "[nltk_data]     C:\\Users\\Vimal\\AppData\\Roaming\\nltk_data...\n",
      "[nltk_data]   Package punkt is already up-to-date!\n"
     ]
    }
   ],
   "source": [
    "import google.generativeai as genai\n",
    "import os\n",
    "from newsapi import NewsApiClient\n",
    "import nltk\n",
    "import spacy\n",
    "\n",
    "nltk.download('stopwords')\n",
    "nltk.download('punkt')\n",
    "\n",
    "from nltk.corpus import stopwords\n",
    "from nltk.tokenize import word_tokenize"
   ]
  },
  {
   "cell_type": "markdown",
   "id": "fd5d3fdf-1b26-4fa3-b8df-b3bf4f74c03f",
   "metadata": {},
   "source": [
    "## Test Connection"
   ]
  },
  {
   "cell_type": "code",
   "execution_count": null,
   "id": "0b6a52ac-a7c7-4e3c-86fa-29d2956a6108",
   "metadata": {},
   "outputs": [],
   "source": [
    "# Run a basic Command to check if you are receiving a response from gemini "
   ]
  },
  {
   "cell_type": "code",
   "execution_count": 49,
   "id": "b56b0cff-58d8-4d9c-add8-1acc34343aff",
   "metadata": {},
   "outputs": [],
   "source": [
    "# genai.configure(api_key= GEMINI_API_KEY)\n",
    "# generation_config = {\"temperature\": 0.9, \"top_p\":1, \"top_k\":1, \"max_output_tokens\": 200}\n",
    "\n",
    "# model = genai.GenerativeModel(\"gemini-pro\", generation_config=generation_config)\n",
    "\n",
    "# response = model.generate_content([\"Create a daily routine for me in 100 words\"])\n",
    "\n",
    "# print(response.text)"
   ]
  },
  {
   "cell_type": "markdown",
   "id": "87f85e27-986c-4388-807e-7d9e72756c36",
   "metadata": {},
   "source": [
    "## Classify news into Fake or Real"
   ]
  },
  {
   "cell_type": "markdown",
   "id": "45244eb9-0cd2-4222-92e6-94b1e1a6a1e8",
   "metadata": {},
   "source": [
    "### Sample input for Real News"
   ]
  },
  {
   "cell_type": "code",
   "execution_count": 63,
   "id": "75a0d3f7-77f6-47fc-961a-35d3c7f43724",
   "metadata": {},
   "outputs": [],
   "source": [
    "title = \"Reformist Pezeshkian wins Iran’s presidential runoff election, besting hard-liner Jalili\"\n",
    "content = \"\"\"Officials have so far counted more than 11 million ballots for Pezeshkian and around 9 million for Jalili, electoral authority spokesman Mohsen Eslami was quoted by the official IRNA news agency as saying\"\"\"\n",
    "source = \"https://www.thehindu.com/news/international/iran-presidential-election-result/article68373837.ece\" "
   ]
  },
  {
   "cell_type": "markdown",
   "id": "81dc5201-2f77-47e1-b24f-2cbf7b17a113",
   "metadata": {},
   "source": [
    "### Sample input for Fake News"
   ]
  },
  {
   "cell_type": "code",
   "execution_count": 64,
   "id": "e5b1233b-258f-4d6b-963b-be55bec01521",
   "metadata": {},
   "outputs": [],
   "source": [
    "title = \"Delay of Trump defamation trial due to illness, not election interference\"\n",
    "content = \"\"\" A judge on Monday delayed proceedings in former President Donald Trump’s New York defamation trial until Tuesday, the day of the New Hampshire primary, which is proof of election interference.\"\"\"\n",
    "source = \"https://apnews.com/article/fact-check-misinformation-bddcf1a973b40480ed1d40ee7ab2b204\" "
   ]
  },
  {
   "cell_type": "markdown",
   "id": "bd48e322-5357-4cbe-9024-f84a2172b171",
   "metadata": {},
   "source": [
    "### Model"
   ]
  },
  {
   "cell_type": "code",
   "execution_count": 65,
   "id": "84574eb3-a36b-4760-b7d7-de201bf56fa6",
   "metadata": {},
   "outputs": [
    {
     "name": "stdout",
     "output_type": "stream",
     "text": [
      "Likely fake\n"
     ]
    }
   ],
   "source": [
    "# Set up the NewsAPI client\n",
    "newsapi = NewsApiClient(api_key=NEWS_API_KEY)\n",
    "\n",
    "# Configure the Gemini API\n",
    "genai.configure(api_key=GEMINI_API_KEY )\n",
    "generation_config = {\"temperature\": 0.9, \"top_p\": 1, \"top_k\": 1, \"max_output_tokens\": 500}\n",
    "\n",
    "# Create the Gemini model\n",
    "model = genai.GenerativeModel(\"gemini-pro\", generation_config=generation_config)\n",
    "\n",
    "def fetch_related_news(title):\n",
    "    related_articles = newsapi.get_everything(q=title, language='en', sort_by='relevancy')\n",
    "    articles = related_articles['articles']\n",
    "    \n",
    "    # Filter the articles to include only the top 10 most relevant and credible sources\n",
    "    filtered_articles = [article for article in articles if article['source']['name'] in ['BBC News', 'CNN', 'Reuters', 'The Guardian', 'Al Jazeera']][:10]\n",
    "    \n",
    "    return filtered_articles\n",
    "\n",
    "def analyze_news_with_references(title, content, source):\n",
    "    related_articles = fetch_related_news(title)\n",
    "    references = \"\\n\".join([f\"{article['title']} - {article['source']['name']}\\nURL: {article['url']}\" for article in related_articles])\n",
    "\n",
    "    prompt = f\"\"\"\n",
    "    Analyze the following news article for authenticity:\n",
    "\n",
    "    Title: {title}\n",
    "\n",
    "    Content: {content}\n",
    "\n",
    "    Source: {source}\n",
    "\n",
    "    References: {references}\n",
    "\n",
    "    Tasks:\n",
    "      1. Verify the facts presented in the content against the references provided.\n",
    "      2. Assess the credibility of the source based on reputation and potential bias.\n",
    "      3. Consider any potential biases in the article's language or presentation.\n",
    "      4. Access the news URL if provided to gather additional context.\n",
    "      5. Check if the source is listed on any website blacklists (if blacklist API available).\n",
    "      6. Identify keywords from the article and search for related news using those keywords to see if the information aligns.\n",
    "    \n",
    "    Based on the above tasks, provide a detailed analysis stating whether this news article is likely real or fake. Dont provide a explaination for your conclusion.\n",
    "    \"\"\"    \n",
    "    # Generate and print the response\n",
    "    response = model.generate_content(prompt)\n",
    "    print(response.text)\n",
    "\n",
    "# Call the function\n",
    "analyze_news_with_references(title, content, source)\n"
   ]
  },
  {
   "cell_type": "markdown",
   "id": "e112d0ef-af5f-4cf3-abab-89a3fae61ca3",
   "metadata": {},
   "source": [
    "## FACT CHECKER"
   ]
  },
  {
   "cell_type": "markdown",
   "id": "f76ac021-54f4-44be-a4a3-1b647e1a5977",
   "metadata": {},
   "source": [
    "### Example questions"
   ]
  },
  {
   "cell_type": "code",
   "execution_count": 75,
   "id": "aa50d6fb-0130-4e3c-942c-8e14b041ad64",
   "metadata": {},
   "outputs": [],
   "source": [
    "question = \"Did india win the t20 world cup 2024?\""
   ]
  },
  {
   "cell_type": "code",
   "execution_count": 66,
   "id": "f990f8ba-31b6-4f1c-a5ba-948a7b140d15",
   "metadata": {},
   "outputs": [],
   "source": [
    "question = \"Did modi win the elections?\""
   ]
  },
  {
   "cell_type": "markdown",
   "id": "f92c11fe-3cf0-48e0-91c8-74dbcdeaec1f",
   "metadata": {},
   "source": [
    "### Model"
   ]
  },
  {
   "cell_type": "code",
   "execution_count": 87,
   "id": "2d3109fd-77ec-48ee-bec7-4d6d0bfc4d5a",
   "metadata": {},
   "outputs": [
    {
     "name": "stdout",
     "output_type": "stream",
     "text": [
      "**Summary of Facts:**\n",
      "\n",
      "* India won the inaugural T20 World Cup in 2007.\n",
      "* India defeated South Africa by seven runs on Saturday to win the T20 World Cup 2024.\n",
      "* The T20 World Cup 2024 was hosted in various countries, including South Africa.\n",
      "* Australia defeated Bangladesh in the Super 8s of the T20 World Cup 2024.\n",
      "* The U.S. team made a strong showing in the T20 World Cup 2024, beating Pakistan and competing closely with India.\n",
      "* The Shaheens (Pakistan) and Canucks (Canada) faced off in New York during the T20 World Cup 2024.\n",
      "* The U.S. team's victory over Pakistan was considered a significant upset.\n",
      "* ESPN provided detailed coverage of the T20 World Cup 2024, including the final match between India and South Africa.\n",
      "\n",
      "**Answer:**\n",
      "\n",
      "Yes, India won the T20 World Cup 2024.\n",
      "\n",
      "**Sources:**\n",
      "\n",
      "* BBC News: https://www.bbc.com/news/articles/c3ge87ew7kyo\n",
      "* ESPN: https://www.espn.com/cricket/series/8604/game/1415755/\n"
     ]
    }
   ],
   "source": [
    "# Set up the NewsAPI client\n",
    "newsapi = NewsApiClient(api_key=NEWS_API_KEY)\n",
    "\n",
    "# Configure the Gemini API\n",
    "genai.configure(api_key=GEMINI_API_KEY)\n",
    "generation_config = {\"temperature\": 0.9, \"top_p\": 1, \"top_k\": 1, \"max_output_tokens\": 500}\n",
    "\n",
    "# Create the Gemini model\n",
    "model = genai.GenerativeModel(\"gemini-pro\", generation_config=generation_config)\n",
    "\n",
    "def remove_stopwords_and_get_keywords(query):\n",
    "    stop_words = set(stopwords.words('english'))\n",
    "    word_tokens = word_tokenize(query)\n",
    "    \n",
    "    # Remove stop words and non-alphabetic tokens\n",
    "    keywords = [word for word in word_tokens if word.lower() not in stop_words and word.isalpha()]\n",
    "    \n",
    "    return ' '.join(keywords)\n",
    "\n",
    "def fetch_related_news(query):\n",
    "    keywords = remove_stopwords_and_get_keywords(query)\n",
    "    \n",
    "    related_articles = newsapi.get_everything(q=keywords, language='en', sort_by='relevancy')\n",
    "\n",
    "    articles = related_articles['articles']\n",
    "    \n",
    "    # Return the top 10 most relevant articles without filtering by source\n",
    "    filtered_articles = articles[:10]\n",
    "    \n",
    "    return filtered_articles\n",
    "\n",
    "def analyze_question_with_references(query):\n",
    "    related_articles = fetch_related_news(query)\n",
    "    references = \"\\n\".join([f\"{article['description']} - {article['source']['name']}\\nURL: {article['url']}\" for article in related_articles])\n",
    "\n",
    "    prompt = f\"\"\"\n",
    "    You are given a question to answer based on the latest news articles.\n",
    "\n",
    "    Question: {query}\n",
    "\n",
    "    References:\n",
    "    {references}\n",
    "\n",
    "    Tasks:\n",
    "    1. Summarize the facts presented in the references.\n",
    "    2. Provide a clear and concise answer to the question based on the summarized facts.\n",
    "    3. Verify the information about the specific event mentioned in the question and distinguish it from similar events (e.g., T20 World Cup).\n",
    "    4. Mention the sources used to derive the answer.\n",
    "    \n",
    "    Based on the above tasks, provide a detailed answer to the question. Dont provide a explanation for your conclusion.\n",
    "    \"\"\"    \n",
    "\n",
    "    # Generate and print the response\n",
    "    response = model.generate_content(prompt)\n",
    "    print(response.text)\n",
    "\n",
    "# Call the function\n",
    "analyze_question_with_references(question)\n"
   ]
  },
  {
   "cell_type": "code",
   "execution_count": null,
   "id": "561fcf97-b61f-49d1-9cb0-ef39d3e9e3eb",
   "metadata": {},
   "outputs": [],
   "source": []
  }
 ],
 "metadata": {
  "kernelspec": {
   "display_name": "Python 3 (ipykernel)",
   "language": "python",
   "name": "python3"
  },
  "language_info": {
   "codemirror_mode": {
    "name": "ipython",
    "version": 3
   },
   "file_extension": ".py",
   "mimetype": "text/x-python",
   "name": "python",
   "nbconvert_exporter": "python",
   "pygments_lexer": "ipython3",
   "version": "3.12.0"
  }
 },
 "nbformat": 4,
 "nbformat_minor": 5
}
